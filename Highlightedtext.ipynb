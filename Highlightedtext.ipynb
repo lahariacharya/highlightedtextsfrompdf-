{
 "cells": [
  {
   "cell_type": "code",
   "execution_count": 1,
   "id": "b14b485a-47d9-4af4-a47d-b8bfb9ea8a99",
   "metadata": {},
   "outputs": [],
   "source": [
    "import fitz"
   ]
  },
  {
   "cell_type": "code",
   "execution_count": 2,
   "id": "b9ecf675-8df1-429d-b15e-763586e0ba45",
   "metadata": {},
   "outputs": [],
   "source": [
    "doc = fitz.open(\"sample.pdf\")"
   ]
  },
  {
   "cell_type": "code",
   "execution_count": 3,
   "id": "2542ac5d-4995-44fc-aed2-c862ac91e716",
   "metadata": {},
   "outputs": [
    {
     "name": "stdout",
     "output_type": "stream",
     "text": [
      "1\n"
     ]
    }
   ],
   "source": [
    "print(len(doc))"
   ]
  },
  {
   "cell_type": "code",
   "execution_count": 4,
   "id": "9c1a5f17-25c8-4563-b155-a85fff78793f",
   "metadata": {},
   "outputs": [],
   "source": [
    "page = doc[0]"
   ]
  },
  {
   "cell_type": "code",
   "execution_count": 5,
   "id": "5ed35d90-fc39-4335-89fe-4708338483a9",
   "metadata": {},
   "outputs": [],
   "source": [
    "highlights = []"
   ]
  },
  {
   "cell_type": "code",
   "execution_count": 6,
   "id": "dac84544-c3c7-4744-b465-e5c1f6a2c9d8",
   "metadata": {},
   "outputs": [],
   "source": [
    "annot = page.firstAnnot\n",
    "while annot:\n",
    "    if annot.type[0] == 8:\n",
    "        all_coordinates = annot.vertices\n",
    "        if len(all_coordinates) == 4:\n",
    "            highlight_coord = fitz.Quad(all_coordinates).rect\n",
    "            highlights.append(highlight_coord)\n",
    "        else:\n",
    "            all_coordinates = [all_coordinates[x:x+4] for x in range(0, len(all_coordinates), 4)]\n",
    "            for i in range(0,len(all_coordinates)):\n",
    "                coord = fitz.Quad(all_coordinates[i]).rect\n",
    "                highlights.append(coord)\n",
    "    annot = annot.next\n"
   ]
  },
  {
   "cell_type": "code",
   "execution_count": 7,
   "id": "5984e0fc-d2a1-4ff7-9cc1-5376ed7be699",
   "metadata": {},
   "outputs": [],
   "source": [
    "all_words = page.getTextWords()"
   ]
  },
  {
   "cell_type": "code",
   "execution_count": 8,
   "id": "12376388-0af9-4a2b-b81f-d7592b75ce8f",
   "metadata": {},
   "outputs": [],
   "source": [
    "highlight_text = []\n",
    "for h in highlights:\n",
    "    sentence = [w[4] for w in all_words if   fitz.Rect(w[0:4]).intersect(h)]\n",
    "    highlight_text.append(\" \".join(sentence))"
   ]
  },
  {
   "cell_type": "code",
   "execution_count": 16,
   "id": "94c53148-ce3c-4b05-9f23-c3112c3f03c0",
   "metadata": {},
   "outputs": [
    {
     "name": "stdout",
     "output_type": "stream",
     "text": [
      "Invoice No Page No. : : 3 1 /21/22 Page No. Invoice Dat Period From : : 1 01/04/2022 01/03/2022 ASSOCIATE WITH MERCHANTS COURIER (P) LTD B,32, 403 HARSH PLAZA, PLAZA VIHAR CHS LTD. AMI 1,43, VASHISTHA COTTONE EXCHANGE PATEL EXCHANGE Customer Pan No. GST NO. 27AAFPP6026N1ZA SrNo A.W.B.No. Booking Total Bill Amount = 120.00 0.00 SGST @ of 9.00% = CGST @ of 9.00% = 0.00 10.80 10.80 SGST @ of 9.00% = CGST @ of 9.00% = Grand Total = 10.80 10.80 142.00 @ of 9.00% = Grand Total = 10.80 142.00 PAN NO: AGNPD9138K GST NO : 27AGNPD9138K1ZX SAC Code : 996812\n"
     ]
    }
   ],
   "source": [
    "x=print(\" \".join(highlight_text))"
   ]
  }
 ],
 "metadata": {
  "kernelspec": {
   "display_name": "Python 3 (ipykernel)",
   "language": "python",
   "name": "python3"
  },
  "language_info": {
   "codemirror_mode": {
    "name": "ipython",
    "version": 3
   },
   "file_extension": ".py",
   "mimetype": "text/x-python",
   "name": "python",
   "nbconvert_exporter": "python",
   "pygments_lexer": "ipython3",
   "version": "3.9.7"
  }
 },
 "nbformat": 4,
 "nbformat_minor": 5
}
